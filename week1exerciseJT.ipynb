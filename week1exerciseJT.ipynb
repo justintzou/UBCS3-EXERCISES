{
 "cells": [
  {
   "cell_type": "markdown",
   "metadata": {},
   "source": [
    "# Pattern formation in three dimensions\n",
    "\n",
    "* The goal of this project is to construct spot steady states of a singularly perturbed Schnakenberg model on a finite domain $\\Omega \\in \\mathbb{R}^3$ with insulating boundary conditions and asymptotically small activator to inhibitor diffusivity ratio $\\mathcal{O}(\\varepsilon^2)$\n",
    "\n",
    "    * Example of 2D spot pattern in nature: ![leopard](http://i.telegraph.co.uk/multimedia/archive/02022/nature-leopard_2022625i.jpg)\n",
    "\n",
    "* We also characterize linear instabilities and dynamics of such patterns\n",
    "\n",
    "    * competition instability (competition between spikes for finite resources, leading to a nonlinear annihilation event of one or more spots)\n",
    "    \n",
    "    * self-replication instability (leading to a nonlinear spot-splitting event when the resources are sufficient to support more than the current number of spots) - videos of such events can be found here: [replication movies](http://mathstat.dal.ca/~tkolokol/papers/schnak3d-movies.html)\n",
    "    \n",
    "    * slow $\\mathcal{O}(\\varepsilon^2)$ drift dynamics as spots drift toward equilibrium locations while mainting a near-constant profile\n",
    "    "
   ]
  },
  {
   "cell_type": "code",
   "execution_count": null,
   "metadata": {
    "collapsed": true
   },
   "outputs": [],
   "source": []
  }
 ],
 "metadata": {
  "kernelspec": {
   "display_name": "Python 3",
   "language": "python",
   "name": "python3"
  },
  "language_info": {
   "codemirror_mode": {
    "name": "ipython",
    "version": 3
   },
   "file_extension": ".py",
   "mimetype": "text/x-python",
   "name": "python",
   "nbconvert_exporter": "python",
   "pygments_lexer": "ipython3",
   "version": "3.5.1"
  }
 },
 "nbformat": 4,
 "nbformat_minor": 0
}
